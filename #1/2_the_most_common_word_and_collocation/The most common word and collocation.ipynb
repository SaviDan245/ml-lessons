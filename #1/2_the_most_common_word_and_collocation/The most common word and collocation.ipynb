{
 "cells": [
  {
   "cell_type": "markdown",
   "metadata": {},
   "source": [
    "# The most common word"
   ]
  },
  {
   "cell_type": "markdown",
   "metadata": {},
   "source": [
    "### Modules importing"
   ]
  },
  {
   "cell_type": "code",
   "execution_count": null,
   "metadata": {},
   "outputs": [],
   "source": [
    "import io\n",
    "import unicodedata as ud\n",
    "import re\n",
    "from collections import Counter"
   ]
  },
  {
   "cell_type": "markdown",
   "metadata": {},
   "source": [
    "### Reading file"
   ]
  },
  {
   "cell_type": "code",
   "execution_count": null,
   "metadata": {},
   "outputs": [],
   "source": [
    "with io.open(r'voyna_i_mir.txt', encoding='utf-8') as f:\n",
    "    _data_ = f.readlines()"
   ]
  },
  {
   "cell_type": "markdown",
   "metadata": {},
   "source": [
    "### Data preprocessing"
   ]
  },
  {
   "cell_type": "code",
   "execution_count": null,
   "metadata": {},
   "outputs": [],
   "source": [
    "# Function that remove control characters from a string\n",
    "def remove_ctrl_chs(s: str) -> str:\n",
    "    return ''.join(ch for ch in s if ud.category(ch)[0] != 'C')\n",
    "\n",
    "# Remove control characters from all strings\n",
    "for i in range(len(_data_)):\n",
    "    _data_[i] = remove_ctrl_chs(_data_[i])\n",
    "\n",
    "# Remove all empty strings\n",
    "data = []\n",
    "for i in range(len(_data_)):\n",
    "    if _data_[i]:\n",
    "        data.append(_data_[i])\n",
    "\n",
    "# Cut beginning annotations\n",
    "data = data[83:]\n",
    "\n",
    "# List -> str\n",
    "data = ' '.join(data)\n",
    "\n",
    "# Remove all non-words symbols\n",
    "data = re.findall(r'\\w+', data)\n",
    "\n",
    "# Get all words in lower case\n",
    "data = [w.lower() for w in data]"
   ]
  },
  {
   "cell_type": "markdown",
   "metadata": {},
   "source": [
    "### Problem solution"
   ]
  },
  {
   "cell_type": "code",
   "execution_count": null,
   "metadata": {},
   "outputs": [],
   "source": [
    "common_word = Counter(data).most_common(50)\n",
    "print(f'The most common word in text is \"{common_word[0][0]}\", that repeats {common_word[0][1]} times.')\n",
    "print('\\n--------------------\\n\\nTop-50 most common words in text:\\n')\n",
    "for i, w_c in enumerate(common_word):\n",
    "    w, c = w_c[0], w_c[1]\n",
    "    print(f'{i + 1}) \"{w}\" -- {c} times')"
   ]
  },
  {
   "cell_type": "markdown",
   "metadata": {},
   "source": [
    "# The most common collocation"
   ]
  },
  {
   "cell_type": "markdown",
   "metadata": {},
   "source": [
    "### Data preprocessing"
   ]
  },
  {
   "cell_type": "code",
   "execution_count": null,
   "metadata": {},
   "outputs": [],
   "source": [
    "cols = []\n",
    "for i in range(len(data) - 1):\n",
    "    cols.append(f'{data[i]} {data[i + 1]}')"
   ]
  },
  {
   "cell_type": "markdown",
   "metadata": {},
   "source": [
    "### Problem solution"
   ]
  },
  {
   "cell_type": "code",
   "execution_count": null,
   "metadata": {},
   "outputs": [],
   "source": [
    "common_col = Counter(cols).most_common(50)\n",
    "print(f'The most common collocation in text is \"{common_col[0][0]}\", that repeats {common_col[0][1]} times.')\n",
    "print(f'\\n--------------------\\n\\nTop-50 most common collocations in text:\\n')\n",
    "for i, cl_cn in enumerate(common_col):\n",
    "    cl, cn = cl_cn[0], cl_cn[1]\n",
    "    print(f'{i + 1}) \"{cl}\" -- {cn} times')"
   ]
  }
 ],
 "metadata": {
  "kernelspec": {
   "display_name": "Python 3",
   "language": "python",
   "name": "python3"
  },
  "language_info": {
   "codemirror_mode": {
    "name": "ipython",
    "version": 3
   },
   "file_extension": ".py",
   "mimetype": "text/x-python",
   "name": "python",
   "nbconvert_exporter": "python",
   "pygments_lexer": "ipython3",
   "version": "3.6.6+"
  }
 },
 "nbformat": 4,
 "nbformat_minor": 4
}
