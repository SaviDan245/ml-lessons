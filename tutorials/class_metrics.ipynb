{
 "cells": [
  {
   "cell_type": "markdown",
   "id": "looking-torture",
   "metadata": {},
   "source": [
    "# Разновидности метрик моделей машинного обучения в задачах классификации\n",
    "<a id=\"top\"></a>\n",
    "\n",
    "***Основано на статье \"[Основные метрики задач классификации в машинном обучении](https://webiomed.ai/blog/osnovnye-metriki-zadach-klassifikatsii-v-mashinnom-obuchenii/)\" (08.07.2020)***"
   ]
  },
  {
   "cell_type": "markdown",
   "id": "attended-brand",
   "metadata": {},
   "source": [
    "### ***Содержание***\n",
    "\n",
    "* 1. [Введение](#intro)\n",
    "* 2. [Метрики бинарной классификации](#bin_class)\n",
    "    * 2.1. [Accuracy](#acc)\n",
    "    * 2.2. [Precision](#prec)\n",
    "    * 2.3. [Recall (true positive rate)](#rec)\n",
    "    * 2.4. [F1-Score (F1)](#f1)\n",
    "    * 2.5. [ROC (receiver operating characteristic)](#roc)\n",
    "    * 2.6. [AUC (Area Under Curve)](#auc)\n",
    "* 3. [Мульти-классификация](#mul_class)\n",
    "* 4. [Заключение](#end)"
   ]
  },
  {
   "cell_type": "markdown",
   "id": "veterinary-professional",
   "metadata": {},
   "source": [
    "## **1. Введение**\n",
    "<a id='intro'></a>\n",
    "[**Вернуться к содержанию**](#top)"
   ]
  },
  {
   "cell_type": "markdown",
   "id": "meaningful-catch",
   "metadata": {},
   "source": [
    "В каждой задаче машинного обучения ставится вопрос оценки результатов моделей.\n",
    "\n",
    "Без введенных критериев, невозможно будет ни оценить “успешность” модели, ни сравнить между собой два различных алгоритма. Именно поэтому важно учесть правильный выбор метрик для поставленной задачи, хотя множество существующих метрик может запутать и, в конечном счете, привести к неоптимальному решению."
   ]
  },
  {
   "cell_type": "markdown",
   "id": "offensive-chest",
   "metadata": {},
   "source": [
    "## **2. Метрики бинарной классификации**\n",
    "<a id='bin_class'></a>\n",
    "[**Вернуться к содержанию**](#top)"
   ]
  },
  {
   "cell_type": "markdown",
   "id": "resistant-redhead",
   "metadata": {},
   "source": [
    "В задачах бинарной классификации данные поделены на два класса: их метки принято обозначать как \"$+$\" и \"$-$\". Рассматриваемые ниже метрики основаны на использовании следующих исходов:\n",
    "\n",
    "* истинно положительные **(TP)**;\n",
    "* истинно отрицательные **(TN)**;\n",
    "* ложно положительные **(FP)**;\n",
    "* ложно отрицательные **(FN)**.\n",
    "\n",
    "Для наглядности, исходы можно преобразовать в таблицу сопряженности (*Рис. 1*). Ложно положительный и истинно отрицательный исход ещё называют ошибками первого и второго рода соответственно."
   ]
  },
  {
   "attachments": {
    "990cd79b-f76a-4687-bf22-989aabdcceb6.png": {
     "image/png": "[encoded data removed]"
    }
   },
   "cell_type": "markdown",
   "id": "laden-italy",
   "metadata": {},
   "source": [
    "***Рис. 1: Таблица сопряжённости исходов бинарной классификации***\n",
    "\n",
    "![1_4DJUgtU.png](attachment:990cd79b-f76a-4687-bf22-989aabdcceb6.png)"
   ]
  },
  {
   "cell_type": "markdown",
   "id": "informative-stand",
   "metadata": {},
   "source": [
    "На *Рис. 1* зелёным цветом отмечены квадранты **TP** и **TN** -- истинно положительный и истинно отрицательный исходы соответственно (когда модель **правильно** предсказала принадлежность к одному из двух классов). Таким образом, красные квадранты -- **FP** и **FN** -- ложно положительный и ложно отрицательный соответственно (когда модель **неправильно** предсказала принадлежность к одному из двух классов)."
   ]
  },
  {
   "cell_type": "markdown",
   "id": "reported-chicago",
   "metadata": {},
   "source": [
    "### 2.1. Accuracy\n",
    "<a id='acc'></a>"
   ]
  },
  {
   "cell_type": "markdown",
   "id": "aging-intranet",
   "metadata": {},
   "source": [
    "Одной из наиболее простых, а поэтому и распространенной метрикой является точность (англ. \"Accuracy\"). Она показывает **количество правильно проставленных меток класса** (истинно положительных (TP) и истинно отрицательных (TN)) **от общего количества данных** и считается следующим образом:\n",
    "\n",
    "$Accuracy = \\frac{TP + TN}{TP + TN + FP + FN}$\n",
    "\n",
    "Однако, эта простота является также и причиной, почему её часто критикуют и почему она может абсолютно не подойти под решаемую задачу. Она **не учитывает соотношения ложных срабатываний модели**, что может быть критическим, особенно в медицинской сфере, когда стоит задача распознать все истинные случаи диагноза.\n",
    "\n",
    "Рассмотрим пример с подозрением на заболевание. Модели требуется поставить диагноз. Если наша точность равна $80\\%$, то можно сказать, что в среднем **из $100$ человек она правильно определит наличие или отсутствие диагноза лишь у $80$ человек**, тогда как ещё $20$ будут либо ложно отрицательными, либо ложно положительными.\n",
    "\n",
    "Стоит обратить внимание на то, что в некоторых задачах необходимо определить всех пациентов с диагнозом и можно даже пренебречь ложно положительными исходами, так как они могут отсеяться на следующих стадиях исследования (например, после контрольной сдачи анализов), тогда необходимо добавить к этой метрике ещё одну, которая могла бы оценить требуемый приоритет."
   ]
  },
  {
   "cell_type": "markdown",
   "id": "approved-neighbor",
   "metadata": {},
   "source": [
    "### 2.2. Precision\n",
    "<a id='prec'></a>"
   ]
  },
  {
   "cell_type": "markdown",
   "id": "pacific-pencil",
   "metadata": {},
   "source": [
    "Несмотря на различные английские названия и разные формулы подсчета, русский перевод этой метрики также закрепился как «точность», что может вызвать недоумение и конфуз, поэтому следует уточнять, о чем именно вы говорите. Эта точность показывает **количество истинно положительных исходов из всего набора положительных меток** и считается по следующей формуле:\n",
    "\n",
    "$Precision = \\frac{TP}{TP\\space +\\space FP}$\n",
    "\n",
    "Важность этой метрики определяется тем, **насколько высока для рассматриваемой задачи «цена» ложно положительного результата**. Если, например, стоимость дальнейшей проверки наличия заболевания у пациента высока и мы просто не можем проверить все ложно положительные результаты, то стоит максимизировать данную метрику, ведь при $Precision = 50\\%\\space$ из $100$ положительно определенных больных  диагноз будут иметь лишь $50$ из них."
   ]
  },
  {
   "cell_type": "markdown",
   "id": "unauthorized-supervisor",
   "metadata": {},
   "source": [
    "### 2.3. Recall (true positive rate)\n",
    "<a id=\"rec\"></a>"
   ]
  },
  {
   "cell_type": "markdown",
   "id": "accurate-owner",
   "metadata": {},
   "source": [
    "В русском языке для этого термина используется слово «полнота» или «чувствительность». Эта метрика определяет **количество истинно положительных среди всех меток класса, которые были определены как «положительный»** и вычисляется по следующей формуле:\n",
    "\n",
    "$Recall = \\frac{TP}{TP\\space +\\space FN}$\n",
    "\n",
    "Необходимо уделить особое внимание этой оценке, когда в поставленной задаче ошибка нераспознания положительного класса высока, например, при выставлении диагноза какой-либо смертельной болезни."
   ]
  },
  {
   "cell_type": "markdown",
   "id": "experimental-retro",
   "metadata": {},
   "source": [
    "### 2.4. F1-Score (F1)\n",
    "<a id=\"f1\"></a>"
   ]
  },
  {
   "cell_type": "markdown",
   "id": "meaningful-therapy",
   "metadata": {},
   "source": [
    "В том случае, если $Precision$ и $Recall$ являются одинаково значимыми, можно использовать их среднее гармоническое для получения оценки результатов:\n",
    "\n",
    "$H(x_1, x_2, \\ldots, x_{n-1}, x_n) = \\frac{n}{\\frac{1}{x_1} + \\frac{1}{x_2} + \\frac{1}{x_{n-1}} + \\frac{1}{x_n}} = \\frac{n}{\\sum\\limits_{i=1}\\limits^{n} \\frac{1}{x_i}} = \\frac{n\\sum\\limits_{i=1}\\limits^{n} x_i}{(\\sum\\limits_{i=1}\\limits^{n} \\frac{1}{x_i})(\\sum\\limits_{i=1}\\limits^{n} x_i)} = \\frac{n\\prod\\limits_{i=1}\\limits^{n} x_i}{\\sum\\limits_{i=1}\\limits^{n} x_i} \\Longrightarrow F1 = H(Precision, Recall) = \\frac{2}{\\frac{1}{Precision} + \\frac{1}{Recall}} = \\frac{2 \\space\\cdot\\space Precision \\space\\cdot\\space Recall}{Precision \\space+\\space Recall}$\n",
    "\n",
    "Помимо точечных оценок, существует целый ряд графических методов, способных оценить качество классификации.Помимо точечных оценок, существует целый ряд графических методов, способных оценить качество классификации."
   ]
  },
  {
   "cell_type": "markdown",
   "id": "sporting-account",
   "metadata": {},
   "source": [
    "### 2.5. ROC (receiver operating characteristic)\n",
    "<a id=\"roc\"></a>"
   ]
  },
  {
   "cell_type": "markdown",
   "id": "specialized-rendering",
   "metadata": {},
   "source": [
    "Данная метрика представляет из себя график, показывающий **зависимость верно классифицируемых объектов положительного класса от ложно положительно классифицируемых объектов негативного класса**. Иными словами, **соотношение True Positive Rate (Recall) и False Positive Rate** (*Рис. 2*). При этом, False Positive Rate ($FPR$) рассчитывается по следующей формуле:"
   ]
  },
  {
   "attachments": {
    "d2df9b97-d324-42c8-848f-84c05eba7078.png": {
     "image/png": "[encoded data removed]"
    }
   },
   "cell_type": "markdown",
   "id": "numerous-alliance",
   "metadata": {},
   "source": [
    "***Рис. 2: ROC (receiver operating characteristic)***\n",
    "\n",
    "![2.png](attachment:d2df9b97-d324-42c8-848f-84c05eba7078.png)"
   ]
  },
  {
   "cell_type": "markdown",
   "id": "involved-estimate",
   "metadata": {},
   "source": [
    "*Рис. 2* содержит пример двух $ROC$–кривых. Идеальное значение графика находится в верхней левой точке ($TPR = 1$, a $FPR = 0$\\space). При этом, кривая, соответствующая $FPR = TPR\\space$ является **случайным гаданием**, а если график кривой модели или точка находятся ниже этого минимума, то это говорит лишь о том, что лучше подбрасывать монетку, чем использовать эту модель. При этом говорят, что кривая $X$ доминирует над другой кривой $Y$, если $X$ в любом точке находится левее и выше $Y$, что означает **превосходство** первого классификатора над вторым.\n",
    "\n",
    "С помощью $ROC$-кривой, можно сравнить модели, а также их параметры для поиска наиболее оптимальной (с точки зрения $TPR$ и $FPR$) комбинации. В этом случае ищется **компромисс между количеством больных, метка которых была правильно определена как положительная и количеством больных, метка которых была неправильно определена как положительная**."
   ]
  },
  {
   "cell_type": "markdown",
   "id": "incredible-check",
   "metadata": {},
   "source": [
    "### 2.6. AUC (Area Under Curve)\n",
    "<a id=\"auc\"></a>"
   ]
  },
  {
   "cell_type": "markdown",
   "id": "toxic-marathon",
   "metadata": {},
   "source": [
    "В качестве **численной оценки** $ROC$-кривой принято брать **площадь под** этой **кривой**, которая является неплохим «итогом» для кривой. Если между кривыми $X$ и $Y$ существует доминирование первой над второй, то $AUC(X) > AUC(Y),$ обратное не всегда верно. Но $AUC$ обладает так же и статистическим смыслом: она показывает вероятность того, что случайно выбранный экземпляр негативного класса будет иметь **меньше вероятность быть распознанным как позитивный класс**, чем случайно выбранный позитивный класс.\n",
    "\n",
    "$AUC$ часто сравнивают с метрикой $Accuracy$, и у первой есть явное преимущество при исследовании некоторых моделей - она может работать с **вероятностями**. Например, рассмотрим следующий пример (*Рис. 3*): пусть две модели классифицируют $10$ тестовых экземпляров. $5$ они классифицируют как положительный класс и столько же как отрицательный, так же экземпляры упорядочены в соответствии с вероятностью принадлежать положительному классу (слева—направо). Оба классификатора имеют одинаковую точность — $80\\%$, но $AUC$ у первого — $0.96$, а у второго — $0.64$, поскольку вероятности ошибочных экземпляров разная. Но так же можно найти и контрпример, когда $AUC$ одинаковый, а точность разная."
   ]
  },
  {
   "attachments": {
    "d44094d0-8368-4fd6-872f-74b7fa59bcbb.png": {
     "image/png": "[encoded data removed]"
    }
   },
   "cell_type": "markdown",
   "id": "democratic-midwest",
   "metadata": {},
   "source": [
    "***Рис. 3: Два классификатора имеют одинаковую точность, но разный AUC***\n",
    "\n",
    "![3.png](attachment:d44094d0-8368-4fd6-872f-74b7fa59bcbb.png)"
   ]
  },
  {
   "cell_type": "markdown",
   "id": "oriental-pathology",
   "metadata": {},
   "source": [
    "## Мульти-классификация\n",
    "<a id=\"mul_class\"></a>\n",
    "[**Вернуться к содержанию**](#top)"
   ]
  },
  {
   "cell_type": "markdown",
   "id": "through-african",
   "metadata": {},
   "source": [
    "Все рассмотренные выше метрики относились лишь к **бинарной задаче**, но, зачастую, классов больше, чем два. Это обуславливает необходимость в обобщении рассмотренных метрик. Одним из возможных способов является вычисление **среднего метрики по всем классам**. Тогда в качестве «положительного» класса берется вычисляемый, а все остальные — в качестве «отрицательного».\n",
    "\n",
    "В этом случае формулы для метрик будут выглядеть следующим образом:\n",
    "\n",
    "$\\overline{Accuracy} = \\frac{\\sum\\limits_{i=1}\\limits^{k} Accuracy_i}{k}$\n",
    "\n",
    "$\\overline{Precision} = \\frac{\\sum\\limits_{i=1}\\limits^{k} Precision_i}{k}$\n",
    "\n",
    "$\\overline{Recall} = \\frac{\\sum\\limits_{i=1}\\limits^{k} Recall_i}{k}$\n",
    "\n",
    "$\\overline{Precision} = \\frac{\\sum\\limits_{i=1}\\limits^{k} Precision_i}{k}$\n",
    "\n",
    "$\\overline{F1} = \\frac{\\sum\\limits_{i=1}\\limits^{k} F1_i}{k},$ где $k$ - количество классов;\n",
    "\n",
    "И $AUC_{Total} = f(c_i)\\sum\\limits_{i=1}\\limits^{k} AUC(c_i),$ где $f(c)$ - относительная частота класса $c$."
   ]
  },
  {
   "cell_type": "markdown",
   "id": "nasty-cargo",
   "metadata": {},
   "source": [
    "## 4. Заключение\n",
    "<a id=\"end\"></a>\n",
    "[**Вернуться к содержанию**](#top)"
   ]
  },
  {
   "cell_type": "markdown",
   "id": "favorite-translation",
   "metadata": {},
   "source": [
    "Рассмотренные метрики являются лишь основными и лишь для задач классификации. Существует ещё множество различных областей, в которых они будут разными, потому что каждая задача имеют свою специфику и приоритеты. Невозможно дать каких-то четких гарантий и уж тем более определить, какая из метрик лучше. Выбирать и отдавать предпочтение стоит лишь исходя из своего личного опыта и других исследований."
   ]
  }
 ],
 "metadata": {
  "kernelspec": {
   "display_name": "Python 3",
   "language": "python",
   "name": "python3"
  },
  "language_info": {
   "codemirror_mode": {
    "name": "ipython",
    "version": 3
   },
   "file_extension": ".py",
   "mimetype": "text/x-python",
   "name": "python",
   "nbconvert_exporter": "python",
   "pygments_lexer": "ipython3",
   "version": "3.8.6"
  }
 },
 "nbformat": 4,
 "nbformat_minor": 5
}
