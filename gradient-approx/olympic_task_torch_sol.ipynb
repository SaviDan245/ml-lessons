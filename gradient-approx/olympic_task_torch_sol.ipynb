{
 "cells": [
  {
   "cell_type": "markdown",
   "metadata": {},
   "source": [
    "# Solution of the olympic task \"Спасти парашютиста\" ***with torch modules***"
   ]
  },
  {
   "cell_type": "markdown",
   "metadata": {},
   "source": [
    "### Useful links:\n",
    "* [**How does `yield` work?**](https://habr.com/ru/post/132554/)\n",
    "* [Kaggle \"Titanic\" get started contest](https://www.kaggle.com/c/titanic/overview)\n",
    "* [torch.utils.data.Dataset](https://github.com/pytorch/pytorch/blob/master/torch/utils/data/dataset.py)\n",
    "* [torch.optim](https://pytorch.org/docs/stable/optim.html)"
   ]
  },
  {
   "cell_type": "markdown",
   "metadata": {},
   "source": [
    "### Import libraries"
   ]
  },
  {
   "cell_type": "code",
   "execution_count": 1,
   "metadata": {},
   "outputs": [],
   "source": [
    "from torch.utils.data import Dataset, DataLoader\n",
    "import torch\n",
    "import torch.nn as nn\n",
    "import torch.optim as optim"
   ]
  },
  {
   "cell_type": "markdown",
   "metadata": {},
   "source": [
    "### Create original dataset"
   ]
  },
  {
   "cell_type": "code",
   "execution_count": 2,
   "metadata": {},
   "outputs": [],
   "source": [
    "class SynthDataset(Dataset):\n",
    "    def __init__(self, k1: float, k2: float, noise_intensity: float, t_range=range(0,1000)):\n",
    "        '''\n",
    "        Initialise base parameters, create\n",
    "        and stack `x` and `y` datasets\n",
    "        '''\n",
    "        \n",
    "        super().__init__()\n",
    "        self.t = t = torch.tensor(list(t_range))\n",
    "        ni = noise_intensity\n",
    "        x = k2 * torch.cos(k1 * t) + ni * torch.randn(len(t))\n",
    "        y = k1 * torch.sin(k2 * t) + ni * torch.randn(len(t))\n",
    "        self.coords = torch.stack([x, y], dim=1)\n",
    "        \n",
    "        \n",
    "        \n",
    "    def __len__(self):\n",
    "        '''\n",
    "        Total count of samples\n",
    "        '''\n",
    "        \n",
    "        return len(self.coords) # self.coords.shape[0]\n",
    "    \n",
    "    \n",
    "    def __getitem__(self, i):\n",
    "        '''\n",
    "        Return i-th time segment (which is `t`) and i-th batch (from `coords`)\n",
    "        '''\n",
    "        \n",
    "        return self.t[i:i+1], self.coords[i]\n",
    "\n",
    "ds = SynthDataset(3., 5., 0.01)\n",
    "# dl = DataLoader(ds, batch_size=7, shuffle=False)"
   ]
  },
  {
   "cell_type": "code",
   "execution_count": 3,
   "metadata": {},
   "outputs": [],
   "source": [
    "def dump_dataset(ds, fname):\n",
    "    '''\n",
    "    Dump dataset to csv file\n",
    "    '''\n",
    "    \n",
    "    with open(fname, 'w') as f:\n",
    "        for i in range(len(ds)):\n",
    "            (t,), (x, y) = ds[i]\n",
    "            f.write(f'{t},{x},{y}\\n')\n",
    "\n",
    "dump_dataset(ds, 'data.csv')"
   ]
  },
  {
   "cell_type": "code",
   "execution_count": 4,
   "metadata": {},
   "outputs": [
    {
     "name": "stdout",
     "output_type": "stream",
     "text": [
      "0,5.010119915008545,0.003452320583164692\n",
      "1,-4.941121578216553,-2.852698564529419\n",
      "2,4.803633213043213,-1.6175178289413452\n",
      "3,-4.5691237449646,1.9425715208053589\n",
      "4,4.232048511505127,2.767404794692993\n",
      "5,-3.799129009246826,-0.3912357985973358\n",
      "6,3.2893497943878174,-2.964826822280884\n",
      "7,-2.7297542095184326,-1.297222375869751\n",
      "8,2.1268696784973145,2.2155773639678955\n",
      "9,-1.4521633386611938,2.551121234893799\n"
     ]
    }
   ],
   "source": [
    "! head data.csv"
   ]
  },
  {
   "cell_type": "code",
   "execution_count": 6,
   "metadata": {},
   "outputs": [],
   "source": [
    "class RealDataset(Dataset):\n",
    "    def __init__(self, y):\n",
    "        super().__init__()\n",
    "        self.test(y)\n",
    "        self.coords = torch.tensor(y, dtype=torch.float)\n",
    "        self.t = t = torch.arange(len(y), dtype=torch.float)\n",
    "    \n",
    "    @classmethod\n",
    "    def from_csv(cls, fname):\n",
    "        y = pd.read_csv(fname, header=None).values[:, 1:]\n",
    "        return cls(y)\n",
    "    \n",
    "    @staticmethod\n",
    "    def test(y):\n",
    "        assert y.shape[1] == 2\n",
    "        assert len(y.shape) == 2\n",
    "            \n",
    "        \n",
    "    def __len__(self):\n",
    "        '''\n",
    "        Total count of samples\n",
    "        '''\n",
    "        \n",
    "        return len(self.coords) # self.coords.shape[0]\n",
    "    \n",
    "    \n",
    "    def __getitem__(self, i):\n",
    "        '''\n",
    "        Return i-th time segment (which is `t`) and i-th batch (from `coords`)\n",
    "        '''\n",
    "        \n",
    "        return self.t[i:i+1], self.coords[i]"
   ]
  },
  {
   "cell_type": "code",
   "execution_count": 7,
   "metadata": {},
   "outputs": [
    {
     "ename": "AttributeError",
     "evalue": "'SynthDataset' object has no attribute 'test'",
     "output_type": "error",
     "traceback": [
      "\u001b[0;31m---------------------------------------------------------------------------\u001b[0m",
      "\u001b[0;31mAttributeError\u001b[0m                            Traceback (most recent call last)",
      "\u001b[0;32m<ipython-input-7-2e1ceadae4a1>\u001b[0m in \u001b[0;36m<module>\u001b[0;34m\u001b[0m\n\u001b[0;32m----> 1\u001b[0;31m \u001b[0mds\u001b[0m\u001b[0;34m.\u001b[0m\u001b[0mtest\u001b[0m\u001b[0;34m(\u001b[0m\u001b[0mtorch\u001b[0m\u001b[0;34m.\u001b[0m\u001b[0mones\u001b[0m\u001b[0;34m(\u001b[0m\u001b[0;34m(\u001b[0m\u001b[0;36m2\u001b[0m\u001b[0;34m,\u001b[0m\u001b[0;36m2\u001b[0m\u001b[0;34m)\u001b[0m\u001b[0;34m)\u001b[0m\u001b[0;34m)\u001b[0m\u001b[0;34m\u001b[0m\u001b[0;34m\u001b[0m\u001b[0m\n\u001b[0m",
      "\u001b[0;31mAttributeError\u001b[0m: 'SynthDataset' object has no attribute 'test'"
     ]
    }
   ],
   "source": [
    "ds.test(torch.ones((2,2)))"
   ]
  },
  {
   "cell_type": "code",
   "execution_count": null,
   "metadata": {},
   "outputs": [],
   "source": [
    "ds = RealDataset.from_csv('data.csv')"
   ]
  },
  {
   "cell_type": "code",
   "execution_count": null,
   "metadata": {},
   "outputs": [],
   "source": [
    "ds.coords.shape"
   ]
  },
  {
   "cell_type": "code",
   "execution_count": null,
   "metadata": {},
   "outputs": [],
   "source": [
    "class DummyDataLoader:\n",
    "    def __init__(self, ds, batch_size, shuffle=False):\n",
    "        self.ds = ds\n",
    "        if shuffle:\n",
    "            self.idxs = torch.randperm(len(ds))\n",
    "        else:\n",
    "            self.idxs = torch.arange(len(ds))\n",
    "        self.split = torch.split(self.idxs, batch_size)\n",
    "        \n",
    "    def __iter__(self):\n",
    "        for chunk in self.split:\n",
    "            t = torch.stack([self.ds[idx][0] for idx in chunk], dim=0)\n",
    "            coords = torch.stack([self.ds[idx][1] for idx in chunk], dim=0)\n",
    "            yield t, coords"
   ]
  },
  {
   "cell_type": "code",
   "execution_count": null,
   "metadata": {},
   "outputs": [],
   "source": [
    "ddl = DummyDataLoader(ds, 7)"
   ]
  },
  {
   "cell_type": "code",
   "execution_count": null,
   "metadata": {},
   "outputs": [],
   "source": [
    "for i, batch in enumerate(dl):\n",
    "    print(batch)\n",
    "    print('=' * 20)\n",
    "    if i == 5:\n",
    "        break"
   ]
  },
  {
   "cell_type": "code",
   "execution_count": null,
   "metadata": {},
   "outputs": [],
   "source": [
    "class ParaModel(nn.Module):\n",
    "    def __init__(self):\n",
    "        super().__init__()\n",
    "        self.k1 = nn.Parameter(torch.tensor([1.], dtype=torch.float, requires_grad=True))\n",
    "        self.k2 = nn.Parameter(torch.tensor([1.], dtype=torch.float, requires_grad=True))\n",
    "    \n",
    "    def forward(self, t):\n",
    "        '''\n",
    "        t: (B, 1)\n",
    "        '''\n",
    "        x = self.k2 * torch.cos(self.k1 * t) # (B, 1)\n",
    "        y = self.k1 * torch.sin(self.k2 * t) # (B, 1)\n",
    "        return torch.cat([x, y], dim=1) # (B, 2)"
   ]
  },
  {
   "cell_type": "code",
   "execution_count": null,
   "metadata": {},
   "outputs": [],
   "source": [
    "m = ParaModel()\n",
    "list(m.parameters())"
   ]
  },
  {
   "cell_type": "code",
   "execution_count": null,
   "metadata": {},
   "outputs": [],
   "source": [
    "class DummyMSELoss:\n",
    "    def __init__(self, reduction='mean'):\n",
    "        self.reduction = reduction\n",
    "    \n",
    "    def __call__(self, pred, gt):\n",
    "        res = ((pred - gt) ** 2)\n",
    "        if self.reduction == 'mean':\n",
    "            return res.mean()\n",
    "        elif self.reduction == 'none':\n",
    "            return res"
   ]
  },
  {
   "cell_type": "code",
   "execution_count": null,
   "metadata": {},
   "outputs": [],
   "source": [
    "ds = TaskDataset(3., 5., 0.01, )\n",
    "\n",
    "m = ParaModel()\n",
    "\n",
    "criterion = nn.MSELoss(reduction='mean')\n",
    "# criterion2 = DummyMSELoss(reduction='mean')\n",
    "\n",
    "optimizer = optim.SGD(m.parameters(), lr=0.001)\n",
    "\n",
    "epochs = 3\n",
    "for epoch in range(epochs):\n",
    "    dl = DataLoader(ds, batch_size=7, shuffle=True)\n",
    "    for batch in dl:\n",
    "        optimizer.zero_grad()\n",
    "        t, coords = batch\n",
    "        pred = m(t)\n",
    "        gt = coords   # gt = ground truth\n",
    "        loss = criterion(pred, gt)\n",
    "#         print(loss)\n",
    "        loss.backward()\n",
    "        optimizer.step()\n",
    "#         print(m.k1, m.k2)"
   ]
  },
  {
   "cell_type": "code",
   "execution_count": null,
   "metadata": {},
   "outputs": [],
   "source": []
  }
 ],
 "metadata": {
  "kernelspec": {
   "display_name": "Python 3",
   "language": "python",
   "name": "python3"
  },
  "language_info": {
   "codemirror_mode": {
    "name": "ipython",
    "version": 3
   },
   "file_extension": ".py",
   "mimetype": "text/x-python",
   "name": "python",
   "nbconvert_exporter": "python",
   "pygments_lexer": "ipython3",
   "version": "3.8.5"
  }
 },
 "nbformat": 4,
 "nbformat_minor": 4
}
