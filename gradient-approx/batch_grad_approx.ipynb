{
 "cells": [
  {
   "cell_type": "markdown",
   "metadata": {},
   "source": [
    "# <font color='green'>Approximation</font> of linear function using <font color='green'>batch gradient descent</font>"
   ]
  },
  {
   "cell_type": "markdown",
   "metadata": {},
   "source": [
    "#### Import libraries"
   ]
  },
  {
   "cell_type": "code",
   "execution_count": 1,
   "metadata": {},
   "outputs": [
    {
     "name": "stdout",
     "output_type": "stream",
     "text": [
      "Using matplotlib backend: MacOSX\n",
      "Populating the interactive namespace from numpy and matplotlib\n"
     ]
    }
   ],
   "source": [
    "import torch\n",
    "from tqdm import tqdm\n",
    "%pylab\n",
    "%matplotlib inline"
   ]
  },
  {
   "cell_type": "markdown",
   "metadata": {},
   "source": [
    "#### Plotting function"
   ]
  },
  {
   "cell_type": "code",
   "execution_count": 2,
   "metadata": {},
   "outputs": [],
   "source": [
    "def show_linear_plot(X: np.ndarray, y: np.ndarray, X_lin: np.ndarray, y_lin: np.ndarray, label:str, pts_type='o',\n",
    "                     pts_color='r', pts_label='Points', pts_size=10, plot_color='b', plot_type='-', plot_linew=2) -> None:\n",
    "    fig, _ = plt.subplots(figsize=(9, 7))\n",
    "    \n",
    "    plt.plot(X_lin, y_lin, plot_color+plot_type, label=label, linewidth=plot_linew)\n",
    "    \n",
    "    plt.plot(X, y, pts_color+pts_type, markersize=5, label=pts_label)\n",
    "    plt.title('ƒ(x) approximation', fontsize=25)\n",
    "    plt.xlabel('x', fontsize=15)\n",
    "    plt.ylabel('y', fontsize=15)\n",
    "    plt.minorticks_on()\n",
    "    plt.legend(loc='best', fontsize=13)\n",
    "    fig.tight_layout()\n",
    "    plt.show()"
   ]
  },
  {
   "cell_type": "markdown",
   "metadata": {},
   "source": [
    "## **Gradient descent**"
   ]
  },
  {
   "cell_type": "code",
   "execution_count": 3,
   "metadata": {},
   "outputs": [
    {
     "name": "stderr",
     "output_type": "stream",
     "text": [
      "100%|██████████| 6/6 [00:10<00:00,  1.81s/it]"
     ]
    },
    {
     "name": "stdout",
     "output_type": "stream",
     "text": [
      "There is the global minimum of the function, if x = 1.0277502155304583 and y = 0.9855934474849359\n"
     ]
    },
    {
     "name": "stderr",
     "output_type": "stream",
     "text": [
      "\n"
     ]
    }
   ],
   "source": [
    "def clip_grad(grad: torch.Tensor, max_grad_len: float) -> torch.Tensor:\n",
    "    grad_len = torch.norm(grad)\n",
    "    if grad_len < max_grad_len:\n",
    "        return grad, grad_len\n",
    "    return (grad / grad_len) * max_grad_len, grad_len\n",
    "\n",
    "def grad_desc(f, X0s: list, N=10001, alpha=.01, step=1, max_grad_len=1.) -> list:\n",
    "    XMins = []\n",
    "    for x0 in tqdm(X0s):\n",
    "        for _ in range(N):\n",
    "            X = torch.tensor([x0], dtype=torch.float, requires_grad=True)\n",
    "            y = f(X)\n",
    "            y.backward()\n",
    "            clipped_grad, _ = clip_grad(X.grad, max_grad_len)\n",
    "            x0 -= clipped_grad.item() * alpha * step\n",
    "        XMins.append(x0)\n",
    "    return XMins\n",
    "\n",
    "\n",
    "\n",
    "f = lambda x: x**8 - x**5 - 2*x**2 + 3\n",
    "X0s = [-20., -10., -5., 5., 10., 20.]\n",
    "XMins = grad_desc(f, X0s)\n",
    "xMin = min(XMins, key=lambda x: f(x))\n",
    "print(f'There is the global minimum of the function, if x = {xMin} and y = {f(xMin)}')"
   ]
  },
  {
   "cell_type": "markdown",
   "metadata": {},
   "source": [
    "## **$ f(x) = kx $**"
   ]
  },
  {
   "cell_type": "markdown",
   "metadata": {},
   "source": [
    "#### Approximation function"
   ]
  },
  {
   "cell_type": "code",
   "execution_count": 4,
   "metadata": {},
   "outputs": [],
   "source": [
    "def approx_k(X: torch.Tensor, y: torch.Tensor, alpha=.01, step=1, max_grad_len=1., desired_grad_len=1e-3) -> tuple:\n",
    "    k = torch.tensor([1], dtype=torch.float, requires_grad=True)\n",
    "    grad_len = desired_grad_len + 1\n",
    "    N = 0\n",
    "    while grad_len > desired_grad_len:\n",
    "        N += 1\n",
    "        yy = k * X\n",
    "        mse = ((yy - y)**2).mean()\n",
    "        mse.backward()\n",
    "        clipped_grad, grad_len = clip_grad(k.grad, max_grad_len)\n",
    "        k =  (k - clipped_grad * alpha * step).clone().detach().requires_grad_(True)\n",
    "    return k.item(), N"
   ]
  },
  {
   "cell_type": "markdown",
   "metadata": {},
   "source": [
    "#### Test"
   ]
  },
  {
   "cell_type": "code",
   "execution_count": 5,
   "metadata": {},
   "outputs": [
    {
     "name": "stdout",
     "output_type": "stream",
     "text": [
      "\n",
      "================================================================================\n",
      "\n",
      "\n",
      "\t\t\tResult:\n",
      "\n",
      "k = 7.527271270751953\t\t658 batches\n",
      "\n",
      "\n",
      "\n",
      "================================================================================\n"
     ]
    },
    {
     "data": {
      "image/png": "[encoded data removed]",
      "text/plain": [
       "<Figure size 648x504 with 1 Axes>"
      ]
     },
     "metadata": {
      "needs_background": "light"
     },
     "output_type": "display_data"
    }
   ],
   "source": [
    "X = torch.tensor([1, 2, 3, 4, 5, 6, 7, 8, 9, 10], dtype=torch.float, requires_grad=True)\n",
    "y = torch.tensor([50, 55, 51, 54, 49, 56, 52, 53, 50, 55], dtype=torch.float, requires_grad=True)\n",
    "k, N = approx_k(X, y)\n",
    "print(f'''\n",
    "================================================================================\n",
    "\\n\\n\\t\\t\\tResult:\\n\\nk = {k}\\t\\t{N} batches\\n\\n\\n\n",
    "================================================================================''')\n",
    "\n",
    "X = X.clone().detach().requires_grad_(False)\n",
    "y = y.clone().detach().requires_grad_(False)\n",
    "X_lin = np.linspace(X.min(), X.max(), 1000)\n",
    "y_lin = k * X_lin\n",
    "label = f'$ {k}x $'\n",
    "show_linear_plot(X, y, X_lin, y_lin, label)"
   ]
  },
  {
   "cell_type": "markdown",
   "metadata": {},
   "source": [
    "## $ f(x) = kx + b $"
   ]
  },
  {
   "cell_type": "markdown",
   "metadata": {},
   "source": [
    "#### Approximation function"
   ]
  },
  {
   "cell_type": "code",
   "execution_count": 6,
   "metadata": {},
   "outputs": [],
   "source": [
    "def approx_kb(X: torch.Tensor, y = torch.Tensor, alpha=.01, step=1, max_grad_len=1., desired_grad_len=1e-3) -> tuple:\n",
    "    kb = torch.tensor([1, 0], dtype=torch.float, requires_grad=True)\n",
    "    grad_len = desired_grad_len + 1\n",
    "    N = 0\n",
    "    while grad_len > desired_grad_len:\n",
    "        N += 1\n",
    "        yy = kb[0] * X + kb[1]\n",
    "        mse = ((yy - y)**2).mean()\n",
    "        mse.backward()\n",
    "        clipped_grad, grad_len = clip_grad(kb.grad, max_grad_len)\n",
    "        kb = (kb - clipped_grad * alpha * step).clone().detach().requires_grad_(True)\n",
    "    return kb[0].item(), kb[1].item(), N"
   ]
  },
  {
   "cell_type": "markdown",
   "metadata": {},
   "source": [
    "#### Test"
   ]
  },
  {
   "cell_type": "code",
   "execution_count": 7,
   "metadata": {},
   "outputs": [
    {
     "name": "stdout",
     "output_type": "stream",
     "text": [
      "\n",
      "================================================================================\n",
      "\n",
      "\n",
      "\t\t\t\tResult:\n",
      "\n",
      "k = 0.127608984708786\t\tb = 51.79766082763672\t\t7100 batches\n",
      "\n",
      "\n",
      "\n",
      "================================================================================\n"
     ]
    },
    {
     "data": {
      "image/png": "[encoded data removed]",
      "text/plain": [
       "<Figure size 648x504 with 1 Axes>"
      ]
     },
     "metadata": {
      "needs_background": "light"
     },
     "output_type": "display_data"
    }
   ],
   "source": [
    "X = torch.tensor([1, 2, 3, 4, 5, 6, 7, 8, 9, 10], dtype=torch.float)\n",
    "y = torch.tensor([50, 55, 51, 54, 49, 56, 52, 53, 50, 55], dtype=torch.float)\n",
    "k, b, N = approx_kb(X, y)\n",
    "print(f'''\n",
    "================================================================================\n",
    "\\n\\n\\t\\t\\t\\tResult:\\n\\nk = {k}\\t\\tb = {b}\\t\\t{N} batches\\n\\n\\n\n",
    "================================================================================''')\n",
    "\n",
    "X = X.clone().detach().requires_grad_(False)\n",
    "y = y.clone().detach().requires_grad_(False)\n",
    "X_lin = np.linspace(X.min(), X.max(), 1000)\n",
    "y_lin = k * X_lin + b\n",
    "label = f'$ {k}x + {b} $'\n",
    "show_linear_plot(X, y, X_lin, y_lin, label)"
   ]
  },
  {
   "cell_type": "markdown",
   "metadata": {},
   "source": [
    "## $ f(x) = ksin(x) + b $"
   ]
  },
  {
   "cell_type": "markdown",
   "metadata": {},
   "source": [
    "#### Approximation function"
   ]
  },
  {
   "cell_type": "code",
   "execution_count": 8,
   "metadata": {},
   "outputs": [],
   "source": [
    "def approx_ksinb(X: torch.Tensor, y = torch.Tensor, alpha=.01, step=1, max_grad_len=1., desired_grad_len=1e-3) -> tuple:\n",
    "    kb = torch.tensor([1, 0], dtype=torch.float, requires_grad=True)\n",
    "    grad_len = desired_grad_len + 1\n",
    "    N = 0\n",
    "    while grad_len > desired_grad_len:\n",
    "        N += 1\n",
    "        yy = kb[0] * torch.sin(X) + kb[1]\n",
    "        mse = ((yy - y)**2).mean()\n",
    "        mse.backward()\n",
    "        clipped_grad, grad_len = clip_grad(kb.grad, max_grad_len)\n",
    "        kb = (kb - clipped_grad * alpha * step).clone().detach().requires_grad_(True)\n",
    "    return kb[0].item(), kb[1].item(), N"
   ]
  },
  {
   "cell_type": "markdown",
   "metadata": {},
   "source": [
    "#### Test"
   ]
  },
  {
   "cell_type": "code",
   "execution_count": 9,
   "metadata": {},
   "outputs": [
    {
     "name": "stdout",
     "output_type": "stream",
     "text": [
      "\n",
      "================================================================================\n",
      "\n",
      "\n",
      "\t\t\t\tResult:\n",
      "\n",
      "k = -0.21204200387001038\t\tb = 52.5297966003418\t\t6054 batches\n",
      "\n",
      "\n",
      "\n",
      "================================================================================\n"
     ]
    },
    {
     "data": {
      "image/png": "[encoded data removed]",
      "text/plain": [
       "<Figure size 648x504 with 1 Axes>"
      ]
     },
     "metadata": {
      "needs_background": "light"
     },
     "output_type": "display_data"
    }
   ],
   "source": [
    "X = torch.tensor([1, 2, 3, 4, 5, 6, 7, 8, 9, 10], dtype=torch.float, requires_grad=True)\n",
    "y = torch.tensor([50, 55, 51, 54, 49, 56, 52, 53, 50, 55], dtype=torch.float, requires_grad=True)\n",
    "k, b, N = approx_ksinb(X, y)\n",
    "print(f'''\n",
    "================================================================================\n",
    "\\n\\n\\t\\t\\t\\tResult:\\n\\nk = {k}\\t\\tb = {b}\\t\\t{N} batches\\n\\n\\n\n",
    "================================================================================''')\n",
    "\n",
    "X = X.clone().detach().requires_grad_(False)\n",
    "y = y.clone().detach().requires_grad_(False)\n",
    "X_lin = np.linspace(X.min(), X.max(), 1000)\n",
    "y_lin = k * np.sin(X_lin) + b\n",
    "label = f'$ {k}x + {b} $'\n",
    "show_linear_plot(X, y, X_lin, y_lin, label)"
   ]
  }
 ],
 "metadata": {
  "kernelspec": {
   "display_name": "Python 3",
   "language": "python",
   "name": "python3"
  },
  "language_info": {
   "codemirror_mode": {
    "name": "ipython",
    "version": 3
   },
   "file_extension": ".py",
   "mimetype": "text/x-python",
   "name": "python",
   "nbconvert_exporter": "python",
   "pygments_lexer": "ipython3",
   "version": "3.8.5"
  }
 },
 "nbformat": 4,
 "nbformat_minor": 4
}
