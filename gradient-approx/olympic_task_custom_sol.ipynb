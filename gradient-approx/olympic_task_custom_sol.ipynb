{
 "cells": [
  {
   "cell_type": "markdown",
   "metadata": {},
   "source": [
    "# Solution of the olympic task \"Спасти парашютиста\" with ***custom gradient descent***"
   ]
  },
  {
   "cell_type": "markdown",
   "metadata": {},
   "source": [
    "### The description\n",
    "\n",
    "Парашютист выпрыгнул из самолета, но у него парашют раскрылся неполностью. К счастью рядом оказался спасательный дрон. Для спасения дрону необходимо рассчитать траекторию падающего парашютиста. Координата высоты вычисляема тривиально, однако дрону необходимо вычислить плоскостные координаты $(x, y)$. Есть траектория изменения, по ним необходимо вычислить последующие координаты дрона.\n",
    "Есть примерная формула изменения координат, она зависит от двух коэффициентов $k_1$ и $k_2$ и случайного шума:\n",
    "\n",
    "#### $ x = k_2cos(k_1t) + n $,  $ y = k_1sin(k_2t) + n $, где $t$ - № секунды ($1000≤t≤1999$), а $n$ - случайный шум.\n",
    "\n",
    "На вход подается `list` в $1000$ пар координат ($x, y$) в первую тысячу секунд (с $0$ по $999$-ю).\n",
    "Пример входных данных:\n",
    "\n",
    "$ [(0.8990863593574939, 8.475387292276096e-07), (0.8089593833113505, 0.3534820061950688), (0.5566465706027002, 0.4399620826711653), ..., (0.19273411906364982, 0.19411748737324), (-0.20981822525965102, -0.19835273653070376), (-0.5703058016775612, -0.44099688186601116)] $\n",
    "\n",
    "На выходе программа должна вывести `list` в $1000$ пар координат ($x, y$) во вторую тысячу секунд (с $1000$ по $1999$-ю).\n",
    "Пример выходных данных:\n",
    "\n",
    "$ [(0.8990863593574939, 8.475387292276096e-07), (0.8089593833113505, 0.3534820061950688), (0.5566465706027002, 0.4399620826711653), ..., (0.19273411906364982, 0.19411748737324), (-0.20981822525965102, -0.19835273653070376), (-0.5703058016775612, -0.44099688186601116)] $"
   ]
  },
  {
   "cell_type": "markdown",
   "metadata": {},
   "source": [
    "### ***Referense:*** Taylor's Rows and complex numbers"
   ]
  },
  {
   "cell_type": "markdown",
   "metadata": {},
   "source": [
    "Let there be a sum: $\\sin \\alpha + \\sin 2\\alpha + \\sin 3\\alpha + \\sin 4\\alpha + \\ldots + \\sin n\\alpha$, *where n - come natural number, and alpha - some real number*"
   ]
  },
  {
   "cell_type": "markdown",
   "metadata": {},
   "source": [
    "**Euler's great identity: $e^{\\pi i} = -1$**"
   ]
  },
  {
   "cell_type": "markdown",
   "metadata": {},
   "source": [
    "$e^{i\\alpha} = \\cos \\alpha + i \\sin \\alpha$"
   ]
  },
  {
   "cell_type": "markdown",
   "metadata": {},
   "source": [
    "$f(x) \\approx f(x_0) + f'(x_0) * (x - x_0) + f''(x_0) * (x-x_0)^2/2! + f'''(x_0) * (x-x_0)^3/3!$ (Taylor's Row)"
   ]
  },
  {
   "cell_type": "markdown",
   "metadata": {},
   "source": [
    "$\\sin x = x - x^3 / 3! + x^5 / 5! - x^7 / 7! + x^9 / 9! - \\ldots$ (Taylor's Row for $ f(x) = \\sin{x}$ in $0$)"
   ]
  },
  {
   "cell_type": "markdown",
   "metadata": {},
   "source": [
    "$\\cos x = 1 - x^2/2! + x^4/4! - x^6/6! + \\ldots$ (Taylor's Row for $ f(x) = \\cos{x}$ in $0$)"
   ]
  },
  {
   "cell_type": "markdown",
   "metadata": {},
   "source": [
    "$e^x = 1 + x + x^2/2! + x^3 / 3! + x^4 / 4! + \\ldots$"
   ]
  },
  {
   "cell_type": "markdown",
   "metadata": {},
   "source": [
    "$ e^{ix} = 1 + ix - \\frac{x^2}{2!} - \\frac{ix^3}{3!} + \\frac{x^4}{4!} + \\frac{ix^5}{5!} - \\frac{x^6}{6!} - \\frac{ix^7}{7!} +  \\ldots = \\cos x + i\\sin x $"
   ]
  },
  {
   "cell_type": "markdown",
   "metadata": {},
   "source": [
    "$Im(e^{i\\alpha} + e^{2i\\alpha} + e^{3i\\alpha} + \\ldots)$, where $Im$ - complex part of the sum"
   ]
  },
  {
   "cell_type": "markdown",
   "metadata": {},
   "source": [
    "### Import libraries"
   ]
  },
  {
   "cell_type": "code",
   "execution_count": 10,
   "metadata": {},
   "outputs": [
    {
     "name": "stdout",
     "output_type": "stream",
     "text": [
      "Using matplotlib backend: MacOSX\n",
      "Populating the interactive namespace from numpy and matplotlib\n"
     ]
    }
   ],
   "source": [
    "import torch\n",
    "from tqdm import tqdm\n",
    "%pylab\n",
    "%matplotlib inline"
   ]
  },
  {
   "cell_type": "markdown",
   "metadata": {},
   "source": [
    "### Solution"
   ]
  },
  {
   "cell_type": "code",
   "execution_count": 11,
   "metadata": {},
   "outputs": [],
   "source": [
    "def dataloader(k1: float, k2: float, noise_intensity=.01) -> tuple:\n",
    "    t = torch.tensor([t for t in range(1000)], dtype=torch.float)\n",
    "    x = k2 * torch.cos(k1 * t) + noise_intensity * torch.randn(1000)\n",
    "    y = k1 * torch.sin(k2 * t) + noise_intensity * torch.randn(1000)\n",
    "    return t, torch.stack([x, y], dim=0).requires_grad_(True)"
   ]
  },
  {
   "cell_type": "code",
   "execution_count": 12,
   "metadata": {},
   "outputs": [],
   "source": [
    "def model(k1k2: torch.Tensor, t: torch.Tensor) -> torch.Tensor:\n",
    "    x = k1k2[1] * torch.cos(k1k2[0] * t)\n",
    "    y = k1k2[0] * torch.sin(k1k2[1] * t)\n",
    "    return torch.stack([x, y], dim=0).requires_grad_(True)"
   ]
  },
  {
   "cell_type": "code",
   "execution_count": 13,
   "metadata": {},
   "outputs": [],
   "source": [
    "def clip_grad(grad: torch.Tensor, max_grad_len: float) -> tuple:\n",
    "    grad_len = torch.norm(grad)\n",
    "    if grad_len < max_grad_len:\n",
    "        return grad, grad_len\n",
    "    return (grad / grad_len) * max_grad_len, grad_len"
   ]
  },
  {
   "cell_type": "code",
   "execution_count": 14,
   "metadata": {},
   "outputs": [],
   "source": [
    "def main(alpha=.01, step=1, max_grad_len=1., desired_grad_len=1e-3) -> list:\n",
    "    t, y = dataloader(3., 5.)\n",
    "    k1k2 = torch.tensor([1, 1], dtype=torch.float, requires_grad=True)\n",
    "    grad_len = desired_grad_len + 1\n",
    "    k1k2_list = []\n",
    "    i = 0\n",
    "    while grad_len > desired_grad_len:\n",
    "        yy = model(k1k2, t)\n",
    "        mse = ((yy - y)**2).mean()\n",
    "        mse.backward()\n",
    "        clipped_grad, grad_len = clip_grad(k1k2.grad, max_grad_len)\n",
    "        k1k2 = (k1k2 - clipped_grad * alpha * step).clone().detach().requires_grad_(True)\n",
    "        i += 1\n",
    "        if i % 10 == 0:\n",
    "            k1k2_list.append([*k1k2.detach().numpy()])\n",
    "        if i == 100000:\n",
    "            break\n",
    "    return k1k2_list"
   ]
  },
  {
   "cell_type": "code",
   "execution_count": 15,
   "metadata": {},
   "outputs": [],
   "source": [
    "t, y = dataloader(0.3, 0.5)\n",
    "t = t.numpy()\n",
    "y = y[0].detach().numpy()"
   ]
  },
  {
   "cell_type": "code",
   "execution_count": 16,
   "metadata": {},
   "outputs": [
    {
     "data": {
      "text/plain": [
       "<matplotlib.collections.PathCollection at 0x7fc701fc8c40>"
      ]
     },
     "execution_count": 16,
     "metadata": {},
     "output_type": "execute_result"
    },
    {
     "data": {
      "image/png": "[encoded data removed]",
      "text/plain": [
       "<Figure size 432x288 with 1 Axes>"
      ]
     },
     "metadata": {
      "needs_background": "light"
     },
     "output_type": "display_data"
    }
   ],
   "source": [
    "plt.scatter(t, y)"
   ]
  },
  {
   "cell_type": "markdown",
   "metadata": {},
   "source": [
    "### Main function"
   ]
  },
  {
   "cell_type": "code",
   "execution_count": 17,
   "metadata": {},
   "outputs": [],
   "source": [
    "k1k2_list = main()"
   ]
  },
  {
   "cell_type": "code",
   "execution_count": 22,
   "metadata": {},
   "outputs": [
    {
     "data": {
      "text/plain": [
       "[<matplotlib.lines.Line2D at 0x7fc6f0e1af40>]"
      ]
     },
     "execution_count": 22,
     "metadata": {},
     "output_type": "execute_result"
    },
    {
     "data": {
      "image/png": "[encoded data removed]",
      "text/plain": [
       "<Figure size 432x288 with 1 Axes>"
      ]
     },
     "metadata": {
      "needs_background": "light"
     },
     "output_type": "display_data"
    }
   ],
   "source": [
    "k1_x = [x[0] for x in k1k2_list]\n",
    "k2_y = [y[1] for y in k1k2_list]\n",
    "\n",
    "xlabel('COEFF k1', fontsize=15)\n",
    "ylabel('COEFF k2', fontsize=15)\n",
    "title('Must be equal to: k1 = 3.0, k2 = 5.0', fontsize=20)\n",
    "plot(k1_x, k2_y, color='r')"
   ]
  }
 ],
 "metadata": {
  "kernelspec": {
   "display_name": "Python 3",
   "language": "python",
   "name": "python3"
  },
  "language_info": {
   "codemirror_mode": {
    "name": "ipython",
    "version": 3
   },
   "file_extension": ".py",
   "mimetype": "text/x-python",
   "name": "python",
   "nbconvert_exporter": "python",
   "pygments_lexer": "ipython3",
   "version": "3.8.5"
  }
 },
 "nbformat": 4,
 "nbformat_minor": 4
}
