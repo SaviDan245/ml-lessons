{
 "cells": [
  {
   "cell_type": "markdown",
   "metadata": {},
   "source": [
    "# Approximation of linear function using stochastic gradient descent"
   ]
  },
  {
   "cell_type": "code",
   "execution_count": 56,
   "metadata": {},
   "outputs": [
    {
     "name": "stdout",
     "output_type": "stream",
     "text": [
      "Using matplotlib backend: MacOSX\n",
      "Populating the interactive namespace from numpy and matplotlib\n"
     ]
    }
   ],
   "source": [
    "import torch\n",
    "from tqdm import tqdm\n",
    "%pylab\n",
    "%matplotlib inline"
   ]
  },
  {
   "cell_type": "markdown",
   "metadata": {},
   "source": [
    "### $ f(x) = k_1x + k_2x + b + n$,   where $n$ - normalized noise"
   ]
  },
  {
   "cell_type": "code",
   "execution_count": 65,
   "metadata": {},
   "outputs": [],
   "source": [
    "def dataloader(M: int, k1: float, k2: float, b: float, batch_size=10, shuffle=True) -> zip:\n",
    "    X = torch.rand(M, 2) * 100\n",
    "    y = k1 * X[:,0] + k2 * X[:,1] + b + torch.randn(M)\n",
    "    if shuffle:\n",
    "        perm = torch.randperm(X.shape[0])\n",
    "        X = X[perm]\n",
    "        y = y[perm]\n",
    "    X_batches = torch.split(X, batch_size)\n",
    "    y_batches = torch.split(y, batch_size)\n",
    "    return zip(X_batches, y_batches)"
   ]
  },
  {
   "cell_type": "code",
   "execution_count": 59,
   "metadata": {},
   "outputs": [],
   "source": [
    "def model(k1k2b, X_batch):\n",
    "    return k1k2b[0] * X_batch[:,0] + k1k2b[1] * X_batch[:,1] + k1k2b[2]"
   ]
  },
  {
   "cell_type": "code",
   "execution_count": 58,
   "metadata": {},
   "outputs": [],
   "source": [
    "def clip_grad(grad: torch.Tensor, max_grad_len: float) -> tuple:\n",
    "    grad_len = torch.norm(grad)\n",
    "    if grad_len < max_grad_len:\n",
    "        return grad, grad_len\n",
    "    return (grad / grad_len) * max_grad_len, grad_len"
   ]
  },
  {
   "cell_type": "code",
   "execution_count": 63,
   "metadata": {},
   "outputs": [],
   "source": [
    "def main(k1: float, k2: float, b: float, M: int, epochs=1, alpha=.1, step=1, max_grad_len=1.) -> tuple:\n",
    "    k1k2b = torch.tensor([1., 1., 0.], dtype=torch.float, requires_grad=True)\n",
    "    for epoch in tqdm([_ for _ in range(epochs)]):\n",
    "        for X_batch, y_batch in dataloader(100,1,2,3,7):\n",
    "            yy = model(k1k2b, X_batch)\n",
    "            mse = ((yy - y_batch)**2).mean()\n",
    "            mse.backward()\n",
    "            clipped_grad, _ = clip_grad(k1k2b.grad, max_grad_len)\n",
    "            k1k2b = (k1k2b - clipped_grad * alpha * step).clone().detach().requires_grad_(True)\n",
    "    return k1k2b[0].item(), k1k2b[1].item(), k1k2b[2].item()"
   ]
  },
  {
   "cell_type": "code",
   "execution_count": 64,
   "metadata": {},
   "outputs": [
    {
     "name": "stderr",
     "output_type": "stream",
     "text": [
      "100%|██████████| 10000/10000 [00:35<00:00, 281.82it/s]\n"
     ]
    },
    {
     "data": {
      "text/plain": [
       "(0.950163722038269, 1.973562479019165, 3.0207550525665283)"
      ]
     },
     "execution_count": 64,
     "metadata": {},
     "output_type": "execute_result"
    }
   ],
   "source": [
    "main(1., 2., 3., 100, epochs=10000)"
   ]
  }
 ],
 "metadata": {
  "kernelspec": {
   "display_name": "Python 3",
   "language": "python",
   "name": "python3"
  },
  "language_info": {
   "codemirror_mode": {
    "name": "ipython",
    "version": 3
   },
   "file_extension": ".py",
   "mimetype": "text/x-python",
   "name": "python",
   "nbconvert_exporter": "python",
   "pygments_lexer": "ipython3",
   "version": "3.8.5"
  }
 },
 "nbformat": 4,
 "nbformat_minor": 4
}
